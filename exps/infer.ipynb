{
 "cells": [
  {
   "cell_type": "code",
   "execution_count": 1,
   "metadata": {
    "colab": {
     "base_uri": "https://localhost:8080/"
    },
    "executionInfo": {
     "elapsed": 382,
     "status": "ok",
     "timestamp": 1670925727992,
     "user": {
      "displayName": "20",
      "userId": "00260548354071665304"
     },
     "user_tz": -480
    },
    "id": "_HLhpKFgDbIU",
    "outputId": "a8fab0fb-2411-43c9-f5da-82893eeeedc4"
   },
   "outputs": [
    {
     "name": "stdout",
     "output_type": "stream",
     "text": [
      "Tue Jul 11 08:06:07 2023       \n",
      "+-----------------------------------------------------------------------------+\n",
      "| NVIDIA-SMI 470.141.03   Driver Version: 470.141.03   CUDA Version: 11.4     |\n",
      "|-------------------------------+----------------------+----------------------+\n",
      "| GPU  Name        Persistence-M| Bus-Id        Disp.A | Volatile Uncorr. ECC |\n",
      "| Fan  Temp  Perf  Pwr:Usage/Cap|         Memory-Usage | GPU-Util  Compute M. |\n",
      "|                               |                      |               MIG M. |\n",
      "|===============================+======================+======================|\n",
      "|   0  Tesla V100-SXM2...  On   | 00000000:06:00.0 Off |                    0 |\n",
      "| N/A   31C    P0    42W / 163W |      0MiB / 32510MiB |      0%      Default |\n",
      "|                               |                      |                  N/A |\n",
      "+-------------------------------+----------------------+----------------------+\n",
      "                                                                               \n",
      "+-----------------------------------------------------------------------------+\n",
      "| Processes:                                                                  |\n",
      "|  GPU   GI   CI        PID   Type   Process name                  GPU Memory |\n",
      "|        ID   ID                                                   Usage      |\n",
      "|=============================================================================|\n",
      "|  No running processes found                                                 |\n",
      "+-----------------------------------------------------------------------------+\n"
     ]
    }
   ],
   "source": [
    "!nvidia-smi"
   ]
  },
  {
   "cell_type": "code",
   "execution_count": 2,
   "metadata": {},
   "outputs": [],
   "source": [
    "%load_ext autoreload\n",
    "%autoreload 2"
   ]
  },
  {
   "cell_type": "markdown",
   "metadata": {
    "id": "aLvHjDKmFqPE"
   },
   "source": [
    "## Infer"
   ]
  },
  {
   "cell_type": "code",
   "execution_count": 11,
   "metadata": {},
   "outputs": [
    {
     "name": "stdout",
     "output_type": "stream",
     "text": [
      "best model: /nfs/Workspace/TeethSeg/exps/vnet3d/tooth/exp_5_noscale_intensity_roi96_data50/models/best_model.pth\n",
      "infer dir: /nfs/Workspace/TeethSeg/exps/vnet3d/tooth/exp_5_noscale_intensity_roi96_data50/infers\n",
      "\n",
      "load json from /nfs/Workspace/dataset/teeth/data50/data_new.json\n",
      "train files (30): ['1000966359_20180113', '1000889125_20191101', '1001162439_20180110', '1000983254_20180904', '1001152328_20180112', '1001218388_20180109', '1000915187_20180115', '1001223657_20180112', '1001142392_20180511', '1001142392_20180110', '1001142392_20180116', '1000971031_20180112', '1001022839_20180110', '1001173165_20171205', '1000995722_20180112', '1000889125_20200421', '1001127112_20180109', '1001247962_20180115', '1001133637_20180110', '1001172283_20190622', '1001152328_20180910', '1001232054_20180109', '1001020384_20180114', '1000813648_20180116', '1001218388_20161024', '1001068663_20180116', '1001009635_20180116', '1001218388_20171102', '1000889125_20171016', '1000889125_20180521']\n",
      "val files (10): ['1001173165_20180521', '1001173165_20180115', '1001012179_20180116', '1001224969_20180330', '1001162439_20200910', '1000889125_20180109', '1001172283_20180110', '1001152328_20150714', '1000889125_20190408', '1001028863_20180115']\n",
      "test files (10): ['1000889125_20181106', '1001261667_20180109', '1000915187_20191217', '1001213121_20180115', '1001162439_20150708', '1000889125_20171009', '1001162439_20140520', '1001111103_20180114', '1000983254_20180109', '1001152328_20180306']\n",
      "\n",
      "img pth: /nfs/Workspace/dataset/teeth/data50/image/1001261667_20180109.nii.gz\n",
      "lbl pth: /nfs/Workspace/dataset/teeth/data50/label/1001261667_20180109.nii.gz\n",
      "pred pth: /nfs/Workspace/TeethSeg/exps/vnet3d/tooth/exp_5_noscale_intensity_roi96_data50/infers/exp_5_noscale_intensity_roi96_data50/1001261667_20180109.nii.gz\n",
      "/nfs/Workspace/TeethSeg/exps/vnet3d/tooth\n"
     ]
    }
   ],
   "source": [
    "workspace_dir = '/nfs/Workspace/TeethSeg'\n",
    "\n",
    "import os\n",
    "import sys\n",
    "from pathlib import PurePath\n",
    "sys.path.append(workspace_dir)\n",
    "\n",
    "import pandas as pd\n",
    "\n",
    "from monai.transforms import (\n",
    "   Compose,\n",
    "   AddChanneld,\n",
    "   EnsureChannelFirstd,\n",
    "   LoadImaged,\n",
    "   Orientationd,\n",
    "   SqueezeDimd,\n",
    "   LoadImage\n",
    ")\n",
    "\n",
    "from data_utils.data_loader_utils import load_data_dict_json\n",
    "from data_utils.teeth_dataset import get_data_dicts\n",
    "from data_utils.utils import get_pid_by_file\n",
    "from data_utils.visualization import show_img_lbl, show_img_lbl_pred, show_img_lbl_preds, show_img_lbl_preds_overlap\n",
    "\n",
    "from expers.infer_utils import get_tune_model_dir, get_data_path, get_pred_path\n",
    "\n",
    "# mask\n",
    "model_name = 'vnet3d'\n",
    "# model_name = 'old_cswinunetr_edit_projout_divided_96_3_drop0_0_01'\n",
    "data_name = 'tooth'\n",
    "# exp_name = 'exp_1_noscale_intensity_depth2_4_32_2_window_96_3_drop0_0_01'\n",
    "exp_name = 'exp_5_noscale_intensity_roi96_data50'\n",
    "# edge\n",
    "# model_name = 'old_cswinunetr_edit_projout_divided_96_3'\n",
    "# data_name = 'tooth'\n",
    "# exp_name = 'exp_6_noscale_intensity_dept2_4_32_2_roi96_3_dropout0_0_01_data50_edge'\n",
    "\n",
    "# center\n",
    "# model_name = 'old_cswinunetr_edit_projout_divided_96_3' #  swinunetr\n",
    "# data_name = 'tooth'\n",
    "# exp_name = 'exp_8_noscale_intensity_dept2_4_32_2_roi96_3_dropout0_0_01_data50_center'\n",
    "\n",
    "# model_name = 'unet3d' #  swinunetr\n",
    "# data_name = 'tooth'\n",
    "# exp_name = 'exp_4_noscale_intensity_data50'\n",
    "\n",
    "# swinunetr exp_8_noscale_intensity_roi96_data50_nopretrain\n",
    "# vnet3d exp_5_noscale_intensity_roi96_data50\n",
    "# attention_unet exp_4_noscale_intensity_data50\n",
    "# unet3d exp_4_noscale_intensity_data50\n",
    "\n",
    "root_exp_dir = os.path.join(\n",
    "    workspace_dir, \n",
    "    'exps',\n",
    "    model_name,\n",
    "    data_name,\n",
    "    exp_name\n",
    ")\n",
    "\n",
    "\n",
    "data_dir = '/nfs/Workspace/dataset/teeth/data50'\n",
    "data_json = os.path.join(data_dir, 'data_new.json')\n",
    "# data_json = os.path.join(data_dir, 'data_center.json')\n",
    "model_dir = os.path.join(root_exp_dir, 'models')\n",
    "log_dir = os.path.join(root_exp_dir, 'logs')\n",
    "eval_dir = os.path.join(root_exp_dir, 'evals')\n",
    "infer_dir = os.path.join(root_exp_dir, 'infers')\n",
    "\n",
    "best_checkpoint = os.path.join(model_dir, 'best_model.pth')\n",
    "final_checkpoint = os.path.join(model_dir, 'final_model.pth')\n",
    "\n",
    "print('best model:', best_checkpoint)\n",
    "print(f'infer dir: {infer_dir}\\n')\n",
    "\n",
    "tr_ds, val_ds, tt_ds = load_data_dict_json(data_dir, data_json)\n",
    "data_dict = tt_ds[1]\n",
    "\n",
    "data_dict['pred'] = get_pred_path(root_exp_dir, exp_name, data_dict['image'])\n",
    "img_pth = data_dict['image']\n",
    "lbl_pth = data_dict['label']\n",
    "print('\\nimg pth:', img_pth)\n",
    "print('lbl pth:',lbl_pth)\n",
    "print('pred pth:',data_dict['pred'])\n",
    "\n",
    "%cd /nfs/Workspace/TeethSeg/exps/{model_name}/{data_name}"
   ]
  },
  {
   "cell_type": "code",
   "execution_count": 12,
   "metadata": {
    "colab": {
     "base_uri": "https://localhost:8080/"
    },
    "executionInfo": {
     "elapsed": 73767,
     "status": "ok",
     "timestamp": 1670926546522,
     "user": {
      "displayName": "20",
      "userId": "00260548354071665304"
     },
     "user_tz": -480
    },
    "id": "lTluv_SoHrql",
    "outputId": "750350d3-0424-4ad1-f576-9b10a28c4c89",
    "tags": []
   },
   "outputs": [
    {
     "name": "stdout",
     "output_type": "stream",
     "text": [
      "cuda is available\n",
      "model: vnet3d\n",
      "=> loaded checkpoint '/nfs/Workspace/TeethSeg/exps/vnet3d/tooth/exp_5_noscale_intensity_roi96_data50/models/best_model.pth' (epoch 2541) (bestacc 0.978345513343811) (early stop count 0)\n",
      "infer data: {'image': '/nfs/Workspace/dataset/teeth/data50/image/1001261667_20180109.nii.gz', 'label': '/nfs/Workspace/dataset/teeth/data50/label/1001261667_20180109.nii.gz'}\n",
      "<class 'monai.transforms.utility.array.AddChannel'>: Class `AddChannel` has been deprecated since version 0.8. please use MetaTensor data type and monai.transforms.EnsureChannelFirst instead.\n",
      "\n",
      "infer test time aug: 13.728981453925371 s\n",
      "dice: 0.9468929\n",
      "hd95: 1.4142135623730951\n",
      "avg dice: 0.9468929\n",
      "avg hd95: 1.4142135623730951\n",
      "\n",
      "infer test original:\n",
      "dice: 0.9468929\n",
      "hd95: 1.4142135623730951\n",
      "avg dice: 0.9468929\n",
      "avg hd95: 1.4142135623730951\n",
      "2023-06-27 12:05:52,385 INFO image_writer.py:194 - writing: /nfs/Workspace/TeethSeg/exps/vnet3d/tooth/exp_5_noscale_intensity_roi96_data50/infers/1001261667_20180109.nii.gz\n"
     ]
    }
   ],
   "source": [
    "!PYTHONPATH={workspace_dir} /opt/conda/envs/TeethSeg/bin/python /nfs/Workspace/TeethSeg/expers/infer.py \\\n",
    "--model_name={model_name} \\\n",
    "--data_name={data_name} \\\n",
    "--data_dir={data_dir} \\\n",
    "--model_dir={model_dir} \\\n",
    "--infer_dir={infer_dir} \\\n",
    "--checkpoint={best_checkpoint} \\\n",
    "--img_pth={img_pth} \\\n",
    "--lbl_pth={lbl_pth} \\\n",
    "--out_channels=2 \\\n",
    "--scale_intensity_type='range' \\\n",
    "--a_min=218 \\\n",
    "--a_max=3187 \\\n",
    "--space_x=0.4 \\\n",
    "--space_y=0.4 \\\n",
    "--space_z=0.4 \\\n",
    "--roi_x=96 \\\n",
    "--roi_y=96 \\\n",
    "--roi_z=96 \\\n",
    "--infer_overlap=0.25"
   ]
  },
  {
   "cell_type": "code",
   "execution_count": null,
   "metadata": {},
   "outputs": [],
   "source": [
    "from monai.transforms import (\n",
    "    LoadImaged\n",
    ")\n",
    "dx = {'label': '/nfs/Workspace/dataset/teeth/cindydata/label/1001486953_20180109.nii.gz'}\n",
    "dd = LoadImaged(keys=['label'])(dx)\n",
    "lbl_space = list(dd['label_meta_dict']['pixdim'])[1:4]"
   ]
  },
  {
   "cell_type": "code",
   "execution_count": null,
   "metadata": {},
   "outputs": [],
   "source": [
    "lbl_space"
   ]
  },
  {
   "cell_type": "markdown",
   "metadata": {},
   "source": [
    "## Eval label"
   ]
  },
  {
   "cell_type": "code",
   "execution_count": null,
   "metadata": {},
   "outputs": [],
   "source": [
    "data_dir = '/nfs/Workspace/CardiacSeg/dataset/chgh/block_06'\n",
    "\n",
    "# img_pth='/nfs/Workspace/CardiacSeg/dataset/chgh/block_06/pid_1000.nii.gz'\n",
    "# lbl_pth='/nfs/Workspace/CardiacSeg/dataset/chgh/block_06/pid_1000_gt.nii.gz'\n",
    "# pred_pth='/nfs/Workspace/CardiacSeg/dataset/chgh/block_06/pid_1000_unetcnx.nii.gz'\n",
    "\n",
    "print(data_dir)"
   ]
  },
  {
   "cell_type": "code",
   "execution_count": null,
   "metadata": {},
   "outputs": [],
   "source": [
    "# training\n",
    "!PYTHONPATH=/nfs/Workspace/CardiacSeg /opt/conda/bin/python /nfs/Workspace/CardiacSeg/expers/eval_label.py \\\n",
    "--out_channels=2 \\\n",
    "--a_min=-42 \\\n",
    "--a_max=423 \\\n",
    "--space_x=0.4 \\\n",
    "--space_y=0.4 \\\n",
    "--space_z=0.4 \\\n",
    "--data_dir={data_dir}\n",
    "# --img_pth={img_pth} \\\n",
    "# --lbl_pth={lbl_pth} \\\n",
    "# --pred_pth={pred_pth} \\"
   ]
  },
  {
   "cell_type": "markdown",
   "metadata": {
    "id": "Oh1XpadfirAE"
   },
   "source": [
    "# Summarize exp results"
   ]
  },
  {
   "cell_type": "markdown",
   "metadata": {},
   "source": [
    "## summartize data dict and dice, save out dir"
   ]
  },
  {
   "cell_type": "code",
   "execution_count": null,
   "metadata": {},
   "outputs": [],
   "source": [
    "import os\n",
    "from pprint import pprint\n",
    "import shutil\n",
    "\n",
    "from expers.infer_utils import get_data_path, get_pred_path, get_tune_dir, get_eval_csv_path, get_dice_val\n",
    "\n",
    "\n",
    "pid = 'pid_1000'\n",
    "root_dir = '/nfs/Workspace/TeethSeg/exps'\n",
    "exp_name = 't_1'\n",
    "model_names = ['unet3d', 'attention_unet', 'cotr', 'unetr', 'swinunetr', 'unetcnx_x0']\n",
    "exp_names = [exp_name for _ in model_names] \n",
    "root_exp_dirs = [os.path.join(root_dir, m, 'chgh') for m in model_names]\n",
    "\n",
    "is_save_output = False\n",
    "out_dir = './output'\n",
    "out_infer_dir = os.path.join(out_dir, 'infers')\n",
    "out_eval_dir = os.path.join(out_dir, 'evals')\n",
    "os.makedirs(os.path.join(out_infer_dir), exist_ok=True)\n",
    "os.makedirs(os.path.join(out_eval_dir), exist_ok=True)\n",
    "\n",
    "\n",
    "data_dict = get_data_path(data_dir, pid)\n",
    "dice_dict = {}\n",
    "for exp_name, model_name, root_exp_dir in zip(exp_names, model_names, root_exp_dirs):\n",
    "    key = f'{model_name}'\n",
    "    \n",
    "    # add pred path to data dict\n",
    "    data_dict[key] = get_pred_path(root_exp_dir, exp_name, data_dict['image'])\n",
    "\n",
    "    # read dice by pid\n",
    "    tune_dir = get_tune_dir(os.path.join(root_exp_dir, 'tune_results', exp_name))\n",
    "    csv_pth = get_eval_csv_path(tune_dir)\n",
    "    dice_dict[key] = get_dice_val(csv_pth, pid)\n",
    "    \n",
    "    if is_save_output:\n",
    "        # copy pred file\n",
    "        shutil.copyfile(data_dict[key], os.path.join(out_infer_dir, f'{model_name}_{pid}.nii.gz'))\n",
    "\n",
    "        # copy csv file\n",
    "        shutil.copyfile(csv_pth, os.path.join(out_eval_dir, f'{model_name}_best_model_eval.csv'))\n",
    "\n",
    "\n",
    "pprint(data_dict)\n",
    "pprint(dice_dict)"
   ]
  },
  {
   "cell_type": "markdown",
   "metadata": {},
   "source": [
    "## load out dir"
   ]
  },
  {
   "cell_type": "code",
   "execution_count": null,
   "metadata": {},
   "outputs": [],
   "source": [
    "import os\n",
    "from pprint import pprint\n",
    "import shutil\n",
    "\n",
    "from expers.infer_utils import get_data_path, get_pred_path, get_tune_dir, get_eval_csv_path, get_dice_val\n",
    "\n",
    "out_dir = './output'\n",
    "out_infer_dir = os.path.join(out_dir, 'infers')\n",
    "out_eval_dir = os.path.join(out_dir, 'evals')\n",
    "\n",
    "\n",
    "data_dict = get_data_path(data_dir, pid)\n",
    "dice_dict = {}\n",
    "model_names = ['unet3d', 'attention_unet', 'cotr', 'unetr', 'swinunetr', 'unetcnx_x0']\n",
    "for model_name in model_names:\n",
    "    pred_path = os.path.join(out_infer_dir, f'{model_name}_{pid}.nii.gz')\n",
    "    data_dict[model_name] = pred_path\n",
    "    \n",
    "    csv_pth = os.path.join(out_eval_dir, f'{model_name}_best_model_eval.csv')\n",
    "    dice_dict[model_name] = get_dice_val(csv_pth, pid)\n",
    "\n",
    "pprint(data_dict)\n",
    "pprint(dice_dict)"
   ]
  },
  {
   "cell_type": "code",
   "execution_count": null,
   "metadata": {},
   "outputs": [],
   "source": [
    "# !rm -rf output"
   ]
  },
  {
   "cell_type": "code",
   "execution_count": null,
   "metadata": {},
   "outputs": [],
   "source": [
    "# !zip -r output.zip output"
   ]
  },
  {
   "cell_type": "markdown",
   "metadata": {},
   "source": [
    "# Show exp results"
   ]
  },
  {
   "cell_type": "code",
   "execution_count": null,
   "metadata": {
    "executionInfo": {
     "elapsed": 16146,
     "status": "ok",
     "timestamp": 1670926831160,
     "user": {
      "displayName": "20",
      "userId": "00260548354071665304"
     },
     "user_tz": -480
    },
    "id": "Wu48fa8-Kt2d"
   },
   "outputs": [],
   "source": [
    "keys = list(data_dict.keys())\n",
    "\n",
    "loader = Compose([\n",
    "    LoadImaged(keys=keys),\n",
    "    EnsureChannelFirstd(keys=keys),\n",
    "    Orientationd(keys=keys, axcodes='PLI'),\n",
    "    SqueezeDimd(keys=keys)\n",
    "])\n",
    "\n",
    "data = loader(data_dict)"
   ]
  },
  {
   "cell_type": "code",
   "execution_count": null,
   "metadata": {
    "colab": {
     "base_uri": "https://localhost:8080/",
     "height": 380
    },
    "executionInfo": {
     "elapsed": 4235,
     "status": "ok",
     "timestamp": 1670926835379,
     "user": {
      "displayName": "20",
      "userId": "00260548354071665304"
     },
     "user_tz": -480
    },
    "id": "qF_pYnAwGV0M",
    "outputId": "7079474d-a54a-4934-b6b3-b2b53d5f10b0"
   },
   "outputs": [],
   "source": [
    "%matplotlib inline\n",
    "import matplotlib as mpl\n",
    "import matplotlib.pyplot as plt\n",
    "mpl.rcParams['figure.dpi'] = 300\n",
    "mpl.rcParams[\"figure.facecolor\"] = 'none'\n",
    "\n",
    "from expers.infer_utils import get_img_lbl_preds\n",
    "\n",
    "num_classes = 2\n",
    "slice_idxs = [200] #[100,150,200,250]\n",
    "alpha = 0.5\n",
    "axis_off = True\n",
    "#num_img = len(data_dict)\n",
    "#fig_size = (num_img*5, num_img*len(slice_idxs))\n",
    "num_img = len(data_dict) - 2 \n",
    "fig_size = (num_img*6, len(slice_idxs)*6)\n",
    "show_img = False\n",
    "show_lbl_dc = True\n",
    "\n",
    "keys = dice_dict.keys()\n",
    "\n",
    "pred_titles = [f'{key} (dice: {dice_dict[key]:.3f})'for key in keys]\n",
    "\n",
    "imgs, lbls, preds = get_img_lbl_preds(data, keys, slice_idxs, mode='a')\n",
    "\n",
    "# show_img_lbl_preds\n",
    "show_img_lbl_preds_overlap(\n",
    "    imgs,\n",
    "    lbls,\n",
    "    preds,\n",
    "    pred_titles,\n",
    "    slice_idxs,\n",
    "    num_classes,\n",
    "    axis_off,\n",
    "    alpha,\n",
    "    fig_size,\n",
    "    show_img, \n",
    "    show_lbl_dc\n",
    ")"
   ]
  },
  {
   "cell_type": "code",
   "execution_count": null,
   "metadata": {
    "colab": {
     "base_uri": "https://localhost:8080/",
     "height": 0
    },
    "executionInfo": {
     "elapsed": 4077,
     "status": "ok",
     "timestamp": 1670926942914,
     "user": {
      "displayName": "20",
      "userId": "00260548354071665304"
     },
     "user_tz": -480
    },
    "id": "cMA9BclIzzAT",
    "outputId": "5e4d304f-4b74-421f-ff4e-d1bd9187098c"
   },
   "outputs": [],
   "source": [
    "slice_idxs = [250] #[150,250,350]\n",
    "fig_size = (num_img*7, len(slice_idxs)*5)\n",
    "\n",
    "imgs, lbls, preds = get_img_lbl_preds(data, keys, slice_idxs, mode='s', is_trans=True)\n",
    "\n",
    "#show_img_lbl_preds\n",
    "show_img_lbl_preds_overlap(\n",
    "    imgs,\n",
    "    lbls,\n",
    "    preds,\n",
    "    pred_titles,\n",
    "    slice_idxs,\n",
    "    num_classes,\n",
    "    axis_off,\n",
    "    alpha,\n",
    "    fig_size,\n",
    "    show_img, \n",
    "    show_lbl_dc\n",
    ")"
   ]
  },
  {
   "cell_type": "code",
   "execution_count": null,
   "metadata": {
    "colab": {
     "base_uri": "https://localhost:8080/",
     "height": 0
    },
    "executionInfo": {
     "elapsed": 2250,
     "status": "ok",
     "timestamp": 1670926945160,
     "user": {
      "displayName": "20",
      "userId": "00260548354071665304"
     },
     "user_tz": -480
    },
    "id": "nqjQrgoB0x-3",
    "outputId": "006b9a52-2bfe-44d4-b181-971c4630e44c"
   },
   "outputs": [],
   "source": [
    "slice_idxs = [250] # [200,250,350]\n",
    "fig_size = (num_img*7, len(slice_idxs)*5)\n",
    "\n",
    "imgs, lbls, preds = get_img_lbl_preds(data, keys, slice_idxs, mode='c', is_trans=True)\n",
    "\n",
    "#show_img_lbl_preds\n",
    "show_img_lbl_preds_overlap(\n",
    "    imgs,\n",
    "    lbls,\n",
    "    preds,\n",
    "    pred_titles,\n",
    "    slice_idxs,\n",
    "    num_classes,\n",
    "    axis_off,\n",
    "    alpha,\n",
    "    fig_size,\n",
    "    show_img, \n",
    "    show_lbl_dc,\n",
    ")"
   ]
  }
 ],
 "metadata": {
  "accelerator": "GPU",
  "colab": {
   "provenance": []
  },
  "gpuClass": "standard",
  "kernelspec": {
   "display_name": "TeethSeg",
   "language": "python",
   "name": "teethseg"
  },
  "language_info": {
   "codemirror_mode": {
    "name": "ipython",
    "version": 3
   },
   "file_extension": ".py",
   "mimetype": "text/x-python",
   "name": "python",
   "nbconvert_exporter": "python",
   "pygments_lexer": "ipython3",
   "version": "3.10.12"
  }
 },
 "nbformat": 4,
 "nbformat_minor": 4
}
