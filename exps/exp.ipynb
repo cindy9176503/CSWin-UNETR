{
 "cells": [
  {
   "cell_type": "code",
   "execution_count": 39,
   "metadata": {
    "id": "nmnP0OoaJ4pP"
   },
   "outputs": [
    {
     "name": "stdout",
     "output_type": "stream",
     "text": [
      "Wed Jul 26 08:59:26 2023       \n",
      "+-----------------------------------------------------------------------------+\n",
      "| NVIDIA-SMI 470.141.03   Driver Version: 470.141.03   CUDA Version: 11.4     |\n",
      "|-------------------------------+----------------------+----------------------+\n",
      "| GPU  Name        Persistence-M| Bus-Id        Disp.A | Volatile Uncorr. ECC |\n",
      "| Fan  Temp  Perf  Pwr:Usage/Cap|         Memory-Usage | GPU-Util  Compute M. |\n",
      "|                               |                      |               MIG M. |\n",
      "|===============================+======================+======================|\n",
      "|   0  Tesla V100-SXM2...  On   | 00000000:06:00.0 Off |                    0 |\n",
      "| N/A   31C    P0    43W / 163W |      0MiB / 32510MiB |      0%      Default |\n",
      "|                               |                      |                  N/A |\n",
      "+-------------------------------+----------------------+----------------------+\n",
      "                                                                               \n",
      "+-----------------------------------------------------------------------------+\n",
      "| Processes:                                                                  |\n",
      "|  GPU   GI   CI        PID   Type   Process name                  GPU Memory |\n",
      "|        ID   ID                                                   Usage      |\n",
      "|=============================================================================|\n",
      "|  No running processes found                                                 |\n",
      "+-----------------------------------------------------------------------------+\n"
     ]
    }
   ],
   "source": [
    "!nvidia-smi"
   ]
  },
  {
   "cell_type": "markdown",
   "metadata": {
    "id": "EaIVNeQDIdaB"
   },
   "source": [
    "## Setup environment"
   ]
  },
  {
   "cell_type": "code",
   "execution_count": 40,
   "metadata": {
    "colab": {
     "base_uri": "https://localhost:8080/"
    },
    "executionInfo": {
     "elapsed": 58587,
     "status": "ok",
     "timestamp": 1667727198633,
     "user": {
      "displayName": "22",
      "userId": "12730652554089239437"
     },
     "user_tz": -480
    },
    "id": "Oj2GFXrhLdJ9",
    "outputId": "6330e29a-38e7-43a1-d5a2-bddf86d9d07d"
   },
   "outputs": [
    {
     "name": "stdout",
     "output_type": "stream",
     "text": [
      "/nfs/Workspace/TeethSeg\n",
      "The autoreload extension is already loaded. To reload it, use:\n",
      "  %reload_ext autoreload\n"
     ]
    }
   ],
   "source": [
    "workspace_dir = '/nfs/Workspace/TeethSeg'\n",
    "%cd {workspace_dir}\n",
    "%load_ext autoreload\n",
    "%autoreload 2"
   ]
  },
  {
   "cell_type": "markdown",
   "metadata": {
    "tags": []
   },
   "source": [
    "## Preprocess"
   ]
  },
  {
   "cell_type": "code",
   "execution_count": 42,
   "metadata": {},
   "outputs": [],
   "source": [
    "# !PYTHONPATH={workspace_dir} /opt/conda/envs/TeethSeg/bin/python {workspace_dir}/expers/preprocess.py"
   ]
  },
  {
   "cell_type": "markdown",
   "metadata": {
    "id": "wjHHXsxrY_GO",
    "tags": []
   },
   "source": [
    "## Setup config"
   ]
  },
  {
   "cell_type": "code",
   "execution_count": 43,
   "metadata": {},
   "outputs": [
    {
     "name": "stdout",
     "output_type": "stream",
     "text": [
      "/nfs/Workspace/TeethSeg\n"
     ]
    }
   ],
   "source": [
    "!pwd"
   ]
  },
  {
   "cell_type": "code",
   "execution_count": 49,
   "metadata": {
    "id": "IWG1M4NMYniV",
    "tags": []
   },
   "outputs": [
    {
     "name": "stdout",
     "output_type": "stream",
     "text": [
      "/nfs/Workspace/TeethSeg/exps/cswinunetr_96_3_mask/tooth\n"
     ]
    }
   ],
   "source": [
    "import os\n",
    "\n",
    "model_name = 'cswinunetr_96_3_mask'\n",
    "data_name = 'tooth'\n",
    "exp_name = 'exp_test'\n",
    "\n",
    "\n",
    "root_exp_dir = os.path.join(\n",
    "    workspace_dir, \n",
    "    'exps',\n",
    "    model_name,\n",
    "    data_name,\n",
    "    exp_name\n",
    ")\n",
    "\n",
    "data_dir = '/nfs/Workspace/dataset/teeth/data50'\n",
    "data_json = os.path.join(data_dir, 'data.json')\n",
    "model_dir = os.path.join(root_exp_dir, 'models')\n",
    "log_dir = os.path.join(root_exp_dir, 'logs')\n",
    "eval_dir = os.path.join(root_exp_dir, 'evals')\n",
    "\n",
    "best_checkpoint = os.path.join(model_dir, 'best_model.pth')\n",
    "final_checkpoint = os.path.join(model_dir, 'final_model.pth')\n",
    "\n",
    "os.makedirs(f'{workspace_dir}/exps/{model_name}/{data_name}', exist_ok=True)\n",
    "\n",
    "%cd {workspace_dir}/exps/{model_name}/{data_name}"
   ]
  },
  {
   "cell_type": "markdown",
   "metadata": {
    "id": "3dfeJTv8ZETs",
    "tags": []
   },
   "source": [
    "## Train/Test"
   ]
  },
  {
   "cell_type": "code",
   "execution_count": 50,
   "metadata": {
    "colab": {
     "base_uri": "https://localhost:8080/"
    },
    "executionInfo": {
     "elapsed": 5212593,
     "status": "ok",
     "timestamp": 1667732466402,
     "user": {
      "displayName": "22",
      "userId": "12730652554089239437"
     },
     "user_tz": -480
    },
    "id": "Pc5UecWCYizV",
    "outputId": "92365bec-cd7e-4561-b607-43d9f3520dd9"
   },
   "outputs": [
    {
     "name": "stdout",
     "output_type": "stream",
     "text": [
      "cuda is available\n",
      "model: cswinunetr_96_3_mask\n",
      "img_size:  (96, 96, 96)\n",
      "patch_size:  (2, 2, 2)\n",
      "window_size:  (7, 7, 7)\n",
      "optimzer: AdamW\n",
      "{'lr': 0.0001, 'weight_decay': 0.0005}\n",
      "<class 'monai.transforms.utility.array.AddChannel'>: Class `AddChannel` has been deprecated since version 0.8. please use MetaTensor data type and monai.transforms.EnsureChannelFirst instead.\n",
      "load json from /nfs/Workspace/dataset/teeth/data50/data.json\n",
      "train files (30): ['1000966359_20180113', '1000889125_20191101', '1001162439_20180110', '1000983254_20180904', '1001152328_20180112', '1001218388_20180109', '1000915187_20180115', '1001223657_20180112', '1001142392_20180511', '1001142392_20180110', '1001142392_20180116', '1000971031_20180112', '1001022839_20180110', '1001173165_20171205', '1000995722_20180112', '1000889125_20200421', '1001127112_20180109', '1001247962_20180115', '1001133637_20180110', '1001172283_20190622', '1001152328_20180910', '1001232054_20180109', '1001020384_20180114', '1000813648_20180116', '1001218388_20161024', '1001068663_20180116', '1001009635_20180116', '1001218388_20171102', '1000889125_20171016', '1000889125_20180521']\n",
      "val files (10): ['1001173165_20180521', '1001173165_20180115', '1001012179_20180116', '1001224969_20180330', '1001162439_20200910', '1000889125_20180109', '1001172283_20180110', '1001152328_20150714', '1000889125_20190408', '1001028863_20180115']\n",
      "test files (10): ['1000889125_20181106', '1001022839_20180225', '1000915187_20191217', '1001213121_20180115', '1001162439_20150708', '1000889125_20171009', '1001162439_20140520', '1001111103_20180114', '1000983254_20180109', '1001152328_20180306']\n",
      "\n",
      "load train dataset ...\n",
      "Loading dataset: 100%|██████████████████████████| 30/30 [03:01<00:00,  6.06s/it]\n",
      "\n",
      "load val dataset ...\n",
      "Loading dataset: 100%|██████████████████████████| 10/10 [01:01<00:00,  6.17s/it]\n",
      "[Epoch 0] Training (29 Steps) (loss=0.70523): 100%|█| 30/30 [00:54<00:00,  1.80s\n",
      "[Epoch 1] Training (59 Steps) (loss=0.54389): 100%|█| 30/30 [00:51<00:00,  1.73s\n",
      "[Epoch 2] Training (89 Steps) (loss=0.59304): 100%|█| 30/30 [00:53<00:00,  1.77s\n",
      "[Epoch 3] Training (119 Steps) (loss=0.53247): 100%|█| 30/30 [00:53<00:00,  1.77\n",
      "[Epoch 4] Training (149 Steps) (loss=0.38698): 100%|█| 30/30 [00:52<00:00,  1.75\n",
      "[Epoch 5] Training (179 Steps) (loss=0.37592): 100%|█| 30/30 [00:52<00:00,  1.76\n",
      "[Epoch 6] Training (209 Steps) (loss=0.62063): 100%|█| 30/30 [00:52<00:00,  1.75\n",
      "[Epoch 7] Training (239 Steps) (loss=0.35163): 100%|█| 30/30 [00:52<00:00,  1.74\n",
      "[Epoch 8] Training (269 Steps) (loss=0.30221): 100%|█| 30/30 [00:53<00:00,  1.77\n",
      "[Epoch 9] Training (299 Steps) (loss=0.56071): 100%|█| 30/30 [00:52<00:00,  1.75\n",
      "[Epoch 10] Training (329 Steps) (loss=0.56885): 100%|█| 30/30 [00:53<00:00,  1.7\n",
      "[Epoch 11] Training (359 Steps) (loss=0.56643): 100%|█| 30/30 [00:52<00:00,  1.7\n",
      "[Epoch 12] Training (389 Steps) (loss=0.38800): 100%|█| 30/30 [00:52<00:00,  1.7\n",
      "[Epoch 13] Training (419 Steps) (loss=0.38514): 100%|█| 30/30 [00:54<00:00,  1.8\n",
      "[Epoch 14] Training (449 Steps) (loss=0.19383): 100%|█| 30/30 [00:52<00:00,  1.7\n",
      "[Epoch 15] Training (479 Steps) (loss=0.16536): 100%|█| 30/30 [00:52<00:00,  1.7\n",
      "[Epoch 16] Training (509 Steps) (loss=0.16794): 100%|█| 30/30 [00:52<00:00,  1.7\n",
      "[Epoch 17] Training (539 Steps) (loss=0.25610): 100%|█| 30/30 [00:52<00:00,  1.7\n",
      "[Epoch 18] Training (569 Steps) (loss=0.17944): 100%|█| 30/30 [00:52<00:00,  1.7\n",
      "[Epoch 19] Training (599 Steps) (loss=0.21310): 100%|█| 30/30 [00:52<00:00,  1.7\n",
      "[Epoch 20] Training (629 Steps) (loss=0.35876): 100%|█| 30/30 [00:52<00:00,  1.7\n",
      "Validate (630 / 10 Steps): 100%|████████████████| 10/10 [03:34<00:00, 21.45s/it]\n",
      "Saving checkpoint /nfs/Workspace/TeethSeg/exps/cswinunetr_96_3_mask/tooth/exp_test/models/best_model.pth\n",
      "Best Model Was Saved ! Current Best Avg. Dice: 0.7843113541603088 Current Avg. Dice: 0.7843113541603088\n",
      "Saving checkpoint /nfs/Workspace/TeethSeg/exps/cswinunetr_96_3_mask/tooth/exp_test/models/final_model.pth\n",
      "Final Model Was Saved ! Current Best Avg. Dice: 0.7843113541603088 Current Avg. Dice: 0.7843113541603088\n",
      "[Epoch 21] Training (659 Steps) (loss=0.53321): 100%|█| 30/30 [00:52<00:00,  1.7\n",
      "[Epoch 22] Training (689 Steps) (loss=0.53863): 100%|█| 30/30 [00:52<00:00,  1.7\n",
      "[Epoch 23] Training (719 Steps) (loss=0.31753): 100%|█| 30/30 [00:53<00:00,  1.7\n",
      "[Epoch 24] Training (749 Steps) (loss=0.19677): 100%|█| 30/30 [00:52<00:00,  1.7\n",
      "[Epoch 25] Training (768 Steps) (loss=0.20617):  63%|▋| 19/30 [00:33<00:18,  1.6^C\n"
     ]
    }
   ],
   "source": [
    "# training\n",
    "!PYTHONPATH={workspace_dir} /opt/conda/envs/TeethSeg/bin/python {workspace_dir}/expers/train.py \\\n",
    "--exp_name={exp_name} \\\n",
    "--data_name={data_name} \\\n",
    "--root_exp_dir={root_exp_dir} \\\n",
    "--model_name={model_name}\\\n",
    "--data_dir={data_dir} \\\n",
    "--model_dir={model_dir} \\\n",
    "--log_dir={log_dir} \\\n",
    "--eval_dir={eval_dir} \\\n",
    "--data_dicts_json={data_json} \\\n",
    "--split_train_ratio=0.6 \\\n",
    "--num_fold=3 \\\n",
    "--fold=2 \\\n",
    "--val_every=20 \\\n",
    "--max_early_stop_count=20 \\\n",
    "--max_epoch=20000  \\\n",
    "--out_channels=2 \\\n",
    "--scale_intensity_type='range' \\\n",
    "--a_min=218 \\\n",
    "--a_max=3187 \\\n",
    "--roi_x=96 \\\n",
    "--roi_y=96 \\\n",
    "--roi_z=96 \\\n",
    "--space_x=0.4 \\\n",
    "--space_y=0.4 \\\n",
    "--space_z=0.4 \\\n",
    "--optim='AdamW' \\\n",
    "--lr=1e-4 \\\n",
    "--weight_decay=5e-4 \\\n",
    "--checkpoint={best_checkpoint} \\\n",
    "--no-use_pretrained \\\n",
    "--pin_memory \\\n",
    "# --test_mode"
   ]
  },
  {
   "cell_type": "markdown",
   "metadata": {
    "tags": []
   },
   "source": [
    "## Network Summary"
   ]
  },
  {
   "cell_type": "code",
   "execution_count": null,
   "metadata": {},
   "outputs": [],
   "source": [
    "from torchsummary import summary\n",
    "import torch\n",
    "\n",
    "import sys\n",
    "sys.path.append('/nfs/Workspace/TeethSeg')"
   ]
  },
  {
   "cell_type": "code",
   "execution_count": null,
   "metadata": {},
   "outputs": [],
   "source": [
    "from networks.CSWinTransformer.models.cswinunetr_96_3 import CSwinUNETR as cswinunetr_96_3"
   ]
  },
  {
   "cell_type": "code",
   "execution_count": null,
   "metadata": {},
   "outputs": [],
   "source": [
    "input_shape = (1, 96, 96, 96)\n",
    "\n",
    "cswt = cswinunetr_96_3(\n",
    "    img_size=(96, 96, 96), \n",
    "    split_size=(1,2,3,3),\n",
    "    cswt_depths=[2,4,32,2],\n",
    "    cwst_first_stage_divide=2,\n",
    "    in_channels=1,\n",
    "    out_channels=2,\n",
    "    feature_size=48,\n",
    "    use_checkpoint=False,\n",
    "    drop_rate=0.,\n",
    "    attn_drop_rate=0.,\n",
    "    dropout_path_rate=0.1\n",
    ")\n",
    "s = summary(cswt, input_shape)"
   ]
  }
 ],
 "metadata": {
  "colab": {
   "collapsed_sections": [],
   "provenance": []
  },
  "gpuClass": "standard",
  "kernelspec": {
   "display_name": "TeethSeg",
   "language": "python",
   "name": "teethseg"
  },
  "language_info": {
   "codemirror_mode": {
    "name": "ipython",
    "version": 3
   },
   "file_extension": ".py",
   "mimetype": "text/x-python",
   "name": "python",
   "nbconvert_exporter": "python",
   "pygments_lexer": "ipython3",
   "version": "3.10.12"
  }
 },
 "nbformat": 4,
 "nbformat_minor": 4
}
