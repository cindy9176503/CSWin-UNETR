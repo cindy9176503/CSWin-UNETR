{
 "cells": [
  {
   "cell_type": "code",
   "execution_count": 2,
   "metadata": {
    "colab": {
     "base_uri": "https://localhost:8080/"
    },
    "executionInfo": {
     "elapsed": 382,
     "status": "ok",
     "timestamp": 1670925727992,
     "user": {
      "displayName": "20",
      "userId": "00260548354071665304"
     },
     "user_tz": -480
    },
    "id": "_HLhpKFgDbIU",
    "outputId": "a8fab0fb-2411-43c9-f5da-82893eeeedc4"
   },
   "outputs": [
    {
     "name": "stdout",
     "output_type": "stream",
     "text": [
      "Failed to initialize NVML: Unknown Error\n"
     ]
    }
   ],
   "source": [
    "!nvidia-smi"
   ]
  },
  {
   "cell_type": "code",
   "execution_count": 32,
   "metadata": {},
   "outputs": [
    {
     "name": "stdout",
     "output_type": "stream",
     "text": [
      "The autoreload extension is already loaded. To reload it, use:\n",
      "  %reload_ext autoreload\n"
     ]
    }
   ],
   "source": [
    "%load_ext autoreload\n",
    "%autoreload 2"
   ]
  },
  {
   "cell_type": "markdown",
   "metadata": {
    "id": "aLvHjDKmFqPE"
   },
   "source": [
    "## Infer"
   ]
  },
  {
   "cell_type": "code",
   "execution_count": 33,
   "metadata": {},
   "outputs": [],
   "source": [
    "workspace_dir = '/nfs/Workspace/TeethSeg'\n",
    "\n",
    "import os\n",
    "import sys\n",
    "from pathlib import PurePath\n",
    "sys.path.append(workspace_dir)\n",
    "\n",
    "import pandas as pd\n",
    "\n",
    "from monai.transforms import (\n",
    "   Compose,\n",
    "   AddChanneld,\n",
    "   EnsureChannelFirstd,\n",
    "   LoadImaged,\n",
    "   Orientationd,\n",
    "   SqueezeDimd,\n",
    "   LoadImage\n",
    ")\n",
    "\n",
    "from data_utils.data_loader_utils import load_data_dict_json\n",
    "from data_utils.teeth_dataset import get_data_dicts\n",
    "from data_utils.utils import get_pid_by_file\n",
    "from data_utils.visualization import show_img_lbl, show_img_lbl_pred, show_img_lbl_preds, show_img_lbl_preds_overlap\n",
    "\n",
    "from expers.infer_utils import get_tune_model_dir, get_data_path, get_pred_path"
   ]
  },
  {
   "cell_type": "markdown",
   "metadata": {},
   "source": [
    "### get mask"
   ]
  },
  {
   "cell_type": "code",
   "execution_count": 35,
   "metadata": {},
   "outputs": [
    {
     "name": "stdout",
     "output_type": "stream",
     "text": [
      "best model: /nfs/Workspace/TeethSeg/exps/cswinunetr_96_3_mask/tooth/exp_1_drop0_0_01_mask/models/best_model.pth\n",
      "infer dir: /nfs/Workspace/TeethSeg/exps/cswinunetr_96_3_mask/tooth/exp_1_drop0_0_01_mask/infers\n",
      "\n",
      "load json from /nfs/Workspace/dataset/teeth/data50/data.json\n",
      "train files (30): ['1000966359_20180113', '1000889125_20191101', '1001162439_20180110', '1000983254_20180904', '1001152328_20180112', '1001218388_20180109', '1000915187_20180115', '1001223657_20180112', '1001142392_20180511', '1001142392_20180110', '1001142392_20180116', '1000971031_20180112', '1001022839_20180110', '1001173165_20171205', '1000995722_20180112', '1000889125_20200421', '1001127112_20180109', '1001247962_20180115', '1001133637_20180110', '1001172283_20190622', '1001152328_20180910', '1001232054_20180109', '1001020384_20180114', '1000813648_20180116', '1001218388_20161024', '1001068663_20180116', '1001009635_20180116', '1001218388_20171102', '1000889125_20171016', '1000889125_20180521']\n",
      "val files (10): ['1001173165_20180521', '1001173165_20180115', '1001012179_20180116', '1001224969_20180330', '1001162439_20200910', '1000889125_20180109', '1001172283_20180110', '1001152328_20150714', '1000889125_20190408', '1001028863_20180115']\n",
      "test files (10): ['1000889125_20181106', '1001022839_20180225', '1000915187_20191217', '1001213121_20180115', '1001162439_20150708', '1000889125_20171009', '1001162439_20140520', '1001111103_20180114', '1000983254_20180109', '1001152328_20180306']\n",
      "\n",
      "img pth: /nfs/Workspace/dataset/teeth/data50/image/1001213121_20180115.nii.gz\n",
      "lbl pth: /nfs/Workspace/dataset/teeth/data50/label/1001213121_20180115.nii.gz\n",
      "pred mask pth: /nfs/Workspace/TeethSeg/exps/cswinunetr_96_3_mask/tooth/exp_1_drop0_0_01_mask/infers/exp_1_drop0_0_01_mask/1001213121_20180115.nii.gz\n",
      "/nfs/Workspace/TeethSeg/exps/cswinunetr_96_3_mask/tooth\n"
     ]
    }
   ],
   "source": [
    "# mask\n",
    "model_name = 'cswinunetr_96_3_mask'\n",
    "data_name = 'tooth'\n",
    "exp_name = 'exp_1_drop0_0_01_mask' \n",
    "\n",
    "root_exp_dir = os.path.join(\n",
    "    workspace_dir, \n",
    "    'exps',\n",
    "    model_name,\n",
    "    data_name,\n",
    "    exp_name\n",
    ")\n",
    "\n",
    "\n",
    "data_dir = '/nfs/Workspace/dataset/teeth/data50'\n",
    "data_json = os.path.join(data_dir, 'data.json')\n",
    "model_dir = os.path.join(root_exp_dir, 'models')\n",
    "log_dir = os.path.join(root_exp_dir, 'logs')\n",
    "eval_dir = os.path.join(root_exp_dir, 'evals')\n",
    "infer_dir = os.path.join(root_exp_dir, 'infers')\n",
    "\n",
    "best_checkpoint = os.path.join(model_dir, 'best_model.pth')\n",
    "final_checkpoint = os.path.join(model_dir, 'final_model.pth')\n",
    "\n",
    "print('best model:', best_checkpoint)\n",
    "print(f'infer dir: {infer_dir}\\n')\n",
    "\n",
    "# use testing data\n",
    "tr_ds, val_ds, tt_ds = load_data_dict_json(data_dir, data_json)\n",
    "data_dict = tt_ds[3]\n",
    "data_dict['pred'] = get_pred_path(root_exp_dir, exp_name,data_dict['image'])\n",
    "img_pth = data_dict['image']\n",
    "lbl_pth = data_dict['label']\n",
    "pred_mask_pth = data_dict['pred']\n",
    "\n",
    "# use other data\n",
    "# other_data_name = '1000966359_20180113.nii.gz'\n",
    "# img_pth = os.path.join(data_dir, 'image', other_data_name)\n",
    "# lbl_pth = os.path.join(data_dir, 'label', other_data_name)\n",
    "# pred_mask_pth = os.path.join(infer_dir, other_data_name)\n",
    "\n",
    "print('\\nimg pth:', img_pth)\n",
    "print('lbl pth:', lbl_pth)\n",
    "print('pred mask pth:', pred_mask_pth)\n",
    "\n",
    "%cd /nfs/Workspace/TeethSeg/exps/{model_name}/{data_name}"
   ]
  },
  {
   "cell_type": "code",
   "execution_count": 36,
   "metadata": {
    "colab": {
     "base_uri": "https://localhost:8080/"
    },
    "executionInfo": {
     "elapsed": 73767,
     "status": "ok",
     "timestamp": 1670926546522,
     "user": {
      "displayName": "20",
      "userId": "00260548354071665304"
     },
     "user_tz": -480
    },
    "id": "lTluv_SoHrql",
    "outputId": "750350d3-0424-4ad1-f576-9b10a28c4c89",
    "tags": []
   },
   "outputs": [
    {
     "name": "stdout",
     "output_type": "stream",
     "text": [
      "cuda is available\n",
      "model: cswinunetr_96_3_mask\n",
      "img_size:  (96, 96, 96)\n",
      "patch_size:  (2, 2, 2)\n",
      "window_size:  (7, 7, 7)\n",
      "=> loaded checkpoint '/nfs/Workspace/TeethSeg/exps/cswinunetr_96_3_mask/tooth/exp_1_drop0_0_01_mask/models/best_model.pth' (epoch 2321) (bestacc 0.9788311123847961) (early stop count 0)\n",
      "infer data: {'image': '/nfs/Workspace/dataset/teeth/data50/image/1001213121_20180115.nii.gz', 'label': '/nfs/Workspace/dataset/teeth/data50/label/1001213121_20180115.nii.gz'}\n",
      "<class 'monai.transforms.utility.array.AddChannel'>: Class `AddChannel` has been deprecated since version 0.8. please use MetaTensor data type and monai.transforms.EnsureChannelFirst instead.\n",
      "\n",
      "infer test time aug:\n",
      "dice: 0.972848\n",
      "hd95: 1.0\n",
      "avg dice: 0.972848\n",
      "avg hd95: 1.0\n",
      "\n",
      "infer test original:\n",
      "dice: 0.972848\n",
      "hd95: 1.0\n",
      "avg dice: 0.972848\n",
      "avg hd95: 1.0\n",
      "2023-07-17 12:59:26,495 INFO image_writer.py:194 - writing: /nfs/Workspace/TeethSeg/exps/cswinunetr_96_3_mask/tooth/exp_1_drop0_0_01_mask/infers/1001213121_20180115.nii.gz\n",
      "2023-07-17 12:59:27,680 INFO image_writer.py:194 - writing: /nfs/Workspace/TeethSeg/exps/cswinunetr_96_3_mask/tooth/exp_1_drop0_0_01_mask/infers/1001213121_20180115_prob.nii.gz\n"
     ]
    }
   ],
   "source": [
    "!PYTHONPATH={workspace_dir} /opt/conda/envs/TeethSeg/bin/python /nfs/Workspace/TeethSeg/expers/infer.py \\\n",
    "--model_name={model_name} \\\n",
    "--data_name={data_name} \\\n",
    "--data_dir={data_dir} \\\n",
    "--model_dir={model_dir} \\\n",
    "--infer_dir={infer_dir} \\\n",
    "--checkpoint={best_checkpoint} \\\n",
    "--img_pth={img_pth} \\\n",
    "--lbl_pth={lbl_pth} \\\n",
    "--out_channels=2 \\\n",
    "--scale_intensity_type='range' \\\n",
    "--a_min=218 \\\n",
    "--a_max=3187 \\\n",
    "--space_x=0.4 \\\n",
    "--space_y=0.4 \\\n",
    "--space_z=0.4 \\\n",
    "--roi_x=96 \\\n",
    "--roi_y=96 \\\n",
    "--roi_z=96 \\\n",
    "--infer_overlap=0.25"
   ]
  },
  {
   "cell_type": "markdown",
   "metadata": {},
   "source": [
    "### get center"
   ]
  },
  {
   "cell_type": "code",
   "execution_count": 24,
   "metadata": {},
   "outputs": [
    {
     "name": "stdout",
     "output_type": "stream",
     "text": [
      "best model: /nfs/Workspace/TeethSeg/exps/cswinunetr_96_3_center_edge/tooth/exp_2_drop0_0_01_center/models/best_model.pth\n",
      "infer dir: /nfs/Workspace/TeethSeg/exps/cswinunetr_96_3_center_edge/tooth/exp_2_drop0_0_01_center/infers\n",
      "\n",
      "load json from /nfs/Workspace/dataset/teeth/data50/data_center.json\n",
      "train files (30): ['1000966359_20180113', '1000889125_20191101', '1001162439_20180110', '1000983254_20180904', '1001152328_20180112', '1001218388_20180109', '1000915187_20180115', '1001223657_20180112', '1001142392_20180511', '1001142392_20180110', '1001142392_20180116', '1000971031_20180112', '1001022839_20180110', '1001173165_20171205', '1000995722_20180112', '1000889125_20200421', '1001127112_20180109', '1001247962_20180115', '1001133637_20180110', '1001172283_20190622', '1001152328_20180910', '1001232054_20180109', '1001020384_20180114', '1000813648_20180116', '1001218388_20161024', '1001068663_20180116', '1001009635_20180116', '1001218388_20171102', '1000889125_20171016', '1000889125_20180521']\n",
      "val files (10): ['1001173165_20180521', '1001173165_20180115', '1001012179_20180116', '1001224969_20180330', '1001162439_20200910', '1000889125_20180109', '1001172283_20180110', '1001152328_20150714', '1000889125_20190408', '1001028863_20180115']\n",
      "test files (10): ['1000889125_20181106', '1001022839_20180225', '1000915187_20191217', '1001213121_20180115', '1001162439_20150708', '1000889125_20171009', '1001162439_20140520', '1001111103_20180114', '1000983254_20180109', '1001152328_20180306']\n",
      "\n",
      "img pth: /nfs/Workspace/dataset/teeth/data50/image/1000915187_20191217.nii.gz\n",
      "lbl pth: /nfs/Workspace/dataset/teeth/data50/center/1000915187_20191217.nii.gz\n",
      "pred center pth: /nfs/Workspace/TeethSeg/exps/cswinunetr_96_3_center_edge/tooth/exp_2_drop0_0_01_center/infers/exp_2_drop0_0_01_center/1000915187_20191217.nii.gz\n",
      "/nfs/Workspace/TeethSeg/exps/cswinunetr_96_3_center_edge/tooth\n"
     ]
    }
   ],
   "source": [
    "# mask\n",
    "model_name = 'cswinunetr_96_3_center_edge'\n",
    "data_name = 'tooth'\n",
    "exp_name = 'exp_2_drop0_0_01_center'\n",
    "\n",
    "# edge\n",
    "# model_name = 'cswinunetr_96_3_center_edge'\n",
    "# data_name = 'tooth'\n",
    "# exp_name = 'exp_1_drop0_0_01_edge'\n",
    "\n",
    "root_exp_dir = os.path.join(\n",
    "    workspace_dir, \n",
    "    'exps',\n",
    "    model_name,\n",
    "    data_name,\n",
    "    exp_name\n",
    ")\n",
    "\n",
    "\n",
    "data_dir = '/nfs/Workspace/dataset/teeth/data50'\n",
    "data_json = os.path.join(data_dir, 'data_center.json') # for center\n",
    "# data_json = os.path.join(data_dir, 'data_edge.json') # for edge\n",
    "model_dir = os.path.join(root_exp_dir, 'models')\n",
    "log_dir = os.path.join(root_exp_dir, 'logs')\n",
    "eval_dir = os.path.join(root_exp_dir, 'evals')\n",
    "infer_dir = os.path.join(root_exp_dir, 'infers')\n",
    "\n",
    "best_checkpoint = os.path.join(model_dir, 'best_model.pth')\n",
    "final_checkpoint = os.path.join(model_dir, 'final_model.pth')\n",
    "\n",
    "print('best model:', best_checkpoint)\n",
    "print(f'infer dir: {infer_dir}\\n')\n",
    "\n",
    "\n",
    "# use testing data\n",
    "tr_ds, val_ds, tt_ds = load_data_dict_json(data_dir, data_json)\n",
    "data_dict = tt_ds[2]\n",
    "data_dict['pred'] = get_pred_path(root_exp_dir, exp_name, data_dict['image'])\n",
    "img_pth = data_dict['image']\n",
    "lbl_pth = data_dict['label']\n",
    "pred_mask_pth = data_dict['pred']\n",
    "\n",
    "# use other data\n",
    "# other_data_name = '1000966359_20180113.nii.gz'\n",
    "# img_pth = os.path.join(data_dir, 'image', other_data_name)\n",
    "# lbl_pth = os.path.join(data_dir, 'center', other_data_name)\n",
    "# pred_mask_pth = os.path.join(infer_dir, other_data_name)\n",
    "\n",
    "print('\\nimg pth:', img_pth)\n",
    "print('lbl pth:', lbl_pth)\n",
    "print('pred center pth:', pred_mask_pth)\n",
    "\n",
    "%cd /nfs/Workspace/TeethSeg/exps/{model_name}/{data_name}"
   ]
  },
  {
   "cell_type": "code",
   "execution_count": 7,
   "metadata": {},
   "outputs": [
    {
     "name": "stdout",
     "output_type": "stream",
     "text": [
      "cuda is available\n",
      "model: cswinunetr_96_3_center_edge\n",
      "img_size:  (96, 96, 96)\n",
      "patch_size:  (2, 2, 2)\n",
      "window_size:  (7, 7, 7)\n",
      "=> loaded checkpoint '/nfs/Workspace/TeethSeg/exps/cswinunetr_96_3_center_edge/tooth/exp_2_drop0_0_01_center/models/best_model.pth' (epoch 1041) (bestacc 0.9640594720840454) (early stop count 0)\n",
      "infer data: {'image': '/nfs/Workspace/dataset/teeth/data50/image/1000915187_20191217.nii.gz', 'label': '/nfs/Workspace/dataset/teeth/data50/center/1000915187_20191217.nii.gz'}\n",
      "<class 'monai.transforms.utility.array.AddChannel'>: Class `AddChannel` has been deprecated since version 0.8. please use MetaTensor data type and monai.transforms.EnsureChannelFirst instead.\n",
      "\n",
      "infer test time aug: 21.38182396814227 s\n",
      "dice: 0.877334\n",
      "hd95: 2.23606797749979\n",
      "avg dice: 0.877334\n",
      "avg hd95: 2.23606797749979\n",
      "\n",
      "infer test original:\n",
      "dice: 0.877334\n",
      "hd95: 2.23606797749979\n",
      "avg dice: 0.877334\n",
      "avg hd95: 2.23606797749979\n",
      "2023-07-12 10:01:08,208 INFO image_writer.py:194 - writing: /nfs/Workspace/TeethSeg/exps/cswinunetr_96_3_center_edge/tooth/exp_2_drop0_0_01_center/infers/1000915187_20191217.nii.gz\n"
     ]
    }
   ],
   "source": [
    "!PYTHONPATH={workspace_dir} /opt/conda/envs/TeethSeg/bin/python /nfs/Workspace/TeethSeg/expers/infer.py \\\n",
    "--model_name={model_name} \\\n",
    "--data_name={data_name} \\\n",
    "--data_dir={data_dir} \\\n",
    "--model_dir={model_dir} \\\n",
    "--infer_dir={infer_dir} \\\n",
    "--checkpoint={best_checkpoint} \\\n",
    "--img_pth={img_pth} \\\n",
    "--lbl_pth={lbl_pth} \\\n",
    "--out_channels=2 \\\n",
    "--scale_intensity_type='range' \\\n",
    "--a_min=218 \\\n",
    "--a_max=3187 \\\n",
    "--space_x=0.4 \\\n",
    "--space_y=0.4 \\\n",
    "--space_z=0.4 \\\n",
    "--roi_x=96 \\\n",
    "--roi_y=96 \\\n",
    "--roi_z=96 \\\n",
    "--infer_overlap=0.25"
   ]
  },
  {
   "cell_type": "markdown",
   "metadata": {},
   "source": [
    "# Marker-based Watershed Transform"
   ]
  },
  {
   "cell_type": "code",
   "execution_count": 8,
   "metadata": {},
   "outputs": [],
   "source": [
    "import numpy as np\n",
    "from numpy.lib.function_base import append\n",
    "import os\n",
    "\n",
    "import matplotlib.pyplot as plt\n",
    "import matplotlib\n",
    "import matplotlib.patches as patches\n",
    "\n",
    "from PIL import Image, ImageDraw, ImageFont\n",
    "\n",
    "import torch\n",
    "import torch.utils.data\n",
    "import torchvision.transforms as transforms\n",
    "from torch.nn.functional import normalize\n",
    "\n",
    "import SimpleITK as sitk\n",
    "\n",
    "import imageio\n",
    "\n",
    "import cv2 as cv\n",
    "\n",
    "from scipy.ndimage import label, binary_dilation, binary_opening, binary_closing, binary_erosion, distance_transform_edt\n",
    "from scipy import stats\n",
    "\n",
    "from skimage.segmentation import watershed\n",
    "from skimage import io, morphology"
   ]
  },
  {
   "cell_type": "code",
   "execution_count": 37,
   "metadata": {},
   "outputs": [
    {
     "name": "stdout",
     "output_type": "stream",
     "text": [
      "gt_labels_num =  32\n"
     ]
    },
    {
     "data": {
      "text/plain": [
       "<matplotlib.image.AxesImage at 0x7f9803962440>"
      ]
     },
     "execution_count": 37,
     "metadata": {},
     "output_type": "execute_result"
    },
    {
     "data": {
      "image/png": "[encoded data removed]",
      "text/plain": [
       "<Figure size 1280x960 with 4 Axes>"
      ]
     },
     "metadata": {},
     "output_type": "display_data"
    }
   ],
   "source": [
    "pid = '1001213121_20180115'\n",
    "\n",
    "\n",
    "model_name = 'cswinunetr_96_3_mask'\n",
    "\n",
    "exp_name = 'exp_1_drop0_0_01_mask' \n",
    "\n",
    "root_exp_dir = os.path.join(workspace_dir, 'exps')\n",
    "\n",
    "data_name = 'tooth'\n",
    "mask_model = 'cswinunetr_96_3_mask'\n",
    "mask_exp = 'exp_1_drop0_0_01_mask'\n",
    "\n",
    "center_model = 'cswinunetr_96_3_center_edge'\n",
    "center_exp = 'exp_2_drop0_0_01_center'\n",
    "\n",
    "cbct_path = f'/nfs/Workspace/dataset/teeth/data50/image/{pid}.nii.gz'.format(pid)\n",
    "gt_path = f'/nfs/Workspace/dataset/teeth/data50/label/{pid}.nii.gz'.format(pid)\n",
    "mask_path = f'{root_exp_dir}/{mask_model}/{data_name}/{mask_exp}/infers/{pid}_prob.nii.gz'.format(pid)\n",
    "center_path = f'{root_exp_dir}/{center_model}/{data_name}/{center_exp}/infers/{pid}.nii.gz'.format(pid)\n",
    "\n",
    "save_path = os.path.join(root_exp_dir, 'mwt')\n",
    "if not os.path.isdir(save_path):\n",
    "    os.mkdir(save_path)\n",
    "    \n",
    "\n",
    "cbct_nii = sitk.ReadImage(cbct_path)\n",
    "cbct_img = sitk.GetArrayFromImage(cbct_nii)\n",
    "\n",
    "gt_nii = sitk.ReadImage(gt_path)\n",
    "gt = sitk.GetArrayFromImage(gt_nii).astype(int)\n",
    "gt_binary = gt.copy()\n",
    "gt_labels_num = len(np.unique(gt))\n",
    "gt_binary[gt>0] = 1\n",
    "print('gt_labels_num = ', gt_labels_num)\n",
    "\n",
    "pred_mask = sitk.ReadImage(mask_path)\n",
    "pred_mask = sitk.GetArrayFromImage(pred_mask)\n",
    "\n",
    "pred_center = sitk.ReadImage(center_path)\n",
    "pred_center = sitk.GetArrayFromImage(pred_center).astype(int)\n",
    "\n",
    "sid = 130\n",
    "\n",
    "plt.figure(dpi=200)\n",
    "# plt.imshow(cbct_img[slice_id,:,:], cmap='gray')\n",
    "# plt.axis('off')\n",
    "# out_name = '{}/{}_cbct.jpg'.format(save_path, pid)\n",
    "# plt.savefig(out_name)\n",
    "\n",
    "plt.subplot(141)\n",
    "plt.title('gt')\n",
    "plt.axis('off')\n",
    "plt.imshow(gt[sid,:,:])\n",
    "plt.subplot(142)\n",
    "plt.title('gt_binary')\n",
    "plt.axis('off')\n",
    "plt.imshow(gt_binary[sid,:,:], cmap='gray')\n",
    "plt.subplot(143)\n",
    "plt.title('pred_mask')\n",
    "plt.axis('off')\n",
    "plt.imshow(pred_mask[sid,:,:], cmap='gray')\n",
    "plt.subplot(144)\n",
    "plt.title('pred_center')\n",
    "plt.axis('off')\n",
    "plt.imshow(pred_center[sid,:,:], cmap='gray')"
   ]
  },
  {
   "cell_type": "code",
   "execution_count": 38,
   "metadata": {},
   "outputs": [
    {
     "data": {
      "text/plain": [
       "<matplotlib.image.AxesImage at 0x7f980172edd0>"
      ]
     },
     "execution_count": 38,
     "metadata": {},
     "output_type": "execute_result"
    },
    {
     "data": {
      "image/png": "[encoded data removed]",
      "text/plain": [
       "<Figure size 1280x960 with 2 Axes>"
      ]
     },
     "metadata": {},
     "output_type": "display_data"
    }
   ],
   "source": [
    "# pred mask : Remove small objects\n",
    "pp_mask = pred_mask.copy()\n",
    "pp_mask[pp_mask>=0.2] = 1\n",
    "pp_mask[pp_mask<0.2] = 0\n",
    "pp_mask = pp_mask.astype(bool)\n",
    "pp_mask = morphology.remove_small_objects(pp_mask, min_size=500, connectivity=2)\n",
    "pp_mask = pp_mask.astype(np.uint8)\n",
    "\n",
    "# pred mask : Distance transformation\n",
    "dist_pp_mask = distance_transform_edt(pp_mask)\n",
    "\n",
    "plt.figure(dpi=200)\n",
    "plt.rcParams['axes.titlesize'] = 5\n",
    "plt.rcParams['axes.titlepad'] = 1\n",
    "plt.subplot(121)\n",
    "plt.title('pred mask : Remove small objects')\n",
    "plt.axis('off')\n",
    "plt.imshow(pp_mask[sid,:,:], cmap='gray')\n",
    "plt.subplot(122)\n",
    "plt.title('pred mask : Distance transformation')\n",
    "plt.axis('off')\n",
    "plt.imshow(dist_pp_mask[sid,:,:], cmap='gray')"
   ]
  },
  {
   "cell_type": "code",
   "execution_count": 39,
   "metadata": {},
   "outputs": [
    {
     "data": {
      "text/plain": [
       "<matplotlib.image.AxesImage at 0x7f9800e9de70>"
      ]
     },
     "execution_count": 39,
     "metadata": {},
     "output_type": "execute_result"
    },
    {
     "data": {
      "image/png": "[encoded data removed]",
      "text/plain": [
       "<Figure size 1920x1440 with 5 Axes>"
      ]
     },
     "metadata": {},
     "output_type": "display_data"
    }
   ],
   "source": [
    "# pred center : Distance transformation\n",
    "pp_center = pred_center.copy()\n",
    "pp_center = pp_center.astype(bool)\n",
    "dist_transform = distance_transform_edt(pp_center)\n",
    "dis = np.unique(dist_transform)\n",
    "\n",
    "# pred center : Threshold\n",
    "ret, pp_center_th = cv.threshold(dist_transform, dis[2], 1, 0)\n",
    "pp_center_th = pp_center_th.astype(np.uint8)\n",
    "\n",
    "# pred center : Dilation \n",
    "pp_center = morphology.binary_dilation(pp_center_th, morphology.ball(2))\n",
    "pp_center = pp_center.astype(np.uint8)\n",
    "\n",
    "# pred center : exclude non-teeth areas\n",
    "out_noise = cv.subtract(pp_center, pp_mask)\n",
    "fg_temp = cv.subtract(pp_center, out_noise)\n",
    "\n",
    "# pred center : Remove small objects\n",
    "fg = fg_temp.astype(bool)\n",
    "fg = morphology.remove_small_objects(fg, min_size=100, connectivity=2)\n",
    "fg = morphology.remove_small_objects(fg, min_size=50, connectivity=1)\n",
    "fg = fg.astype(np.uint8)\n",
    "\n",
    "plt.figure(dpi=300)\n",
    "plt.rcParams['axes.titlesize'] = 3\n",
    "plt.rcParams['axes.titlepad'] = 1\n",
    "plt.subplot(151)\n",
    "plt.title('pred center : Distance transformation')\n",
    "plt.axis('off')\n",
    "plt.imshow(dist_transform[sid,:,:], cmap='gray')\n",
    "plt.subplot(152)\n",
    "plt.title('pred center : Threshold')\n",
    "plt.axis('off')\n",
    "plt.imshow(pp_center_th[sid,:,:], cmap='gray')\n",
    "plt.subplot(153)\n",
    "plt.title('pred center : Dilation')\n",
    "plt.axis('off')\n",
    "plt.imshow(pp_center[sid,:,:], cmap='gray')\n",
    "plt.subplot(154)\n",
    "plt.title('pred center : exclude non-teeth areas')\n",
    "plt.axis('off')\n",
    "plt.imshow(fg_temp[sid,:,:], cmap='gray')\n",
    "plt.subplot(155)\n",
    "plt.title('pred center : Remove small objects')\n",
    "plt.axis('off')\n",
    "plt.imshow(fg[sid,:,:], cmap='gray')"
   ]
  },
  {
   "cell_type": "code",
   "execution_count": 42,
   "metadata": {},
   "outputs": [
    {
     "name": "stdout",
     "output_type": "stream",
     "text": [
      "gt_num_markers:  32\n",
      "our labels:  32\n"
     ]
    },
    {
     "data": {
      "text/plain": [
       "<matplotlib.image.AxesImage at 0x7f9800d83790>"
      ]
     },
     "execution_count": 42,
     "metadata": {},
     "output_type": "execute_result"
    },
    {
     "data": {
      "image/png": "[encoded data removed]",
      "text/plain": [
       "<Figure size 640x480 with 1 Axes>"
      ]
     },
     "metadata": {},
     "output_type": "display_data"
    }
   ],
   "source": [
    "# MWT : Connected component labeling\n",
    "markers, num_markers = label(fg)\n",
    "label = watershed(-dist_pp_mask, markers, mask=pp_mask)\n",
    "\n",
    "print('gt_num_markers: ', gt_labels_num)\n",
    "print('our labels: ', len(np.unique(label)))\n",
    "\n",
    "plt.rcParams['axes.titlesize'] = 10\n",
    "plt.title('MWT : Connected component labeling')\n",
    "plt.axis('off')\n",
    "plt.imshow(label[sid,:,:])"
   ]
  },
  {
   "cell_type": "code",
   "execution_count": 43,
   "metadata": {},
   "outputs": [
    {
     "name": "stdout",
     "output_type": "stream",
     "text": [
      "save  /nfs/Workspace/TeethSeg/exps/mwt/1001213121_20180115_label.nii.gz\n"
     ]
    }
   ],
   "source": [
    "# save labels\n",
    "test_path = os.path.join('ToothDataset/cbcts')\n",
    "out = sitk.GetImageFromArray(label)\n",
    "\n",
    "out.SetOrigin(gt_nii.GetOrigin())\n",
    "out.SetDirection(gt_nii.GetDirection())\n",
    "out.SetSpacing(gt_nii.GetSpacing())\n",
    "\n",
    "out_name = '{}/{}_label.nii.gz'.format(save_path, pid)\n",
    "\n",
    "sitk.WriteImage(out, out_name)\n",
    "print('save ', out_name)"
   ]
  }
 ],
 "metadata": {
  "accelerator": "GPU",
  "colab": {
   "provenance": []
  },
  "gpuClass": "standard",
  "kernelspec": {
   "display_name": "TeethSeg",
   "language": "python",
   "name": "teethseg"
  },
  "language_info": {
   "codemirror_mode": {
    "name": "ipython",
    "version": 3
   },
   "file_extension": ".py",
   "mimetype": "text/x-python",
   "name": "python",
   "nbconvert_exporter": "python",
   "pygments_lexer": "ipython3",
   "version": "3.10.12"
  }
 },
 "nbformat": 4,
 "nbformat_minor": 4
}
